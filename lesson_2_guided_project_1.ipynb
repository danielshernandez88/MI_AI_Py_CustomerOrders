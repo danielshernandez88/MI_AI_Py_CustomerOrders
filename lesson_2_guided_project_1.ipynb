{
 "cells": [
  {
   "cell_type": "markdown",
   "metadata": {},
   "source": [
    "### **Guided Practice**"
   ]
  },
  {
   "cell_type": "markdown",
   "metadata": {},
   "source": [
    "##### **Overview:** You are working with customer data in a Python program. Your goal is to store, organize, and analyze customer feedback using basic Python data structures. You will use lists, tuples, dictionaries, and sets to manage customer records, and loops and conditionals to analyze the data.\n"
   ]
  },
  {
   "cell_type": "markdown",
   "metadata": {},
   "source": [
    "##### **Steps to be followed:**\n",
    "\n",
    "1. **Store customer information:**\n",
    "    - Create a list of customer names\n",
    "    - Store each customer's details (name, age, and location) as tuples inside a list\n",
    "    - Use a dictionary to store feedback from each customer\n",
    "    - Print the stored customer details\n",
    " \n",
    "2. **Analyze feedback:**\n",
    "    - Create a set containing keywords for classification\n",
    "    - Create a dictionary to store the classification result\n",
    "    - Use a loop to go through each customer's feedback\n",
    "        - If a feedback message contains words like 'good' or 'excellent', classify it as positive\n",
    "        - If it contains words like 'bad' or 'poor', classify it as negative\n",
    "        - Otherwise, classify it as neutral\n",
    "    - Print the classified feedback\n",
    "\n",
    "3. **Generate a summary report:**\n",
    "    - Use dictionary methods to display customer feedback\n",
    "    - Store unique words from all feedback messages using a set\n",
    "    - Use a list comprehension to create a list of customers who gave positive feedback\n",
    "\n",
    "4. **Organize and display data:**\n",
    "    - Print customer names with their feedback classification\n",
    "    - Perform set operations to compare feedback categories\n",
    "    - Find customers who gave feedback (union of both sets)\n",
    "    - Find customers who gave both positive and negative feedback (intersection)\n",
    "    - Find customers who gave only negative feedback (difference)\n"
   ]
  },
  {
   "cell_type": "markdown",
   "metadata": {},
   "source": [
    "**Step 1:** Store customer information"
   ]
  },
  {
   "cell_type": "code",
   "execution_count": 2,
   "metadata": {},
   "outputs": [
    {
     "name": "stdout",
     "output_type": "stream",
     "text": [
      "Customer Details:\n",
      "('Alice', 28, 'New York')\n",
      "('Bob', 34, 'Los Angeles')\n",
      "('Charlie', 25, 'Chicago')\n",
      "('David', 40, 'Miami')\n"
     ]
    }
   ],
   "source": [
    "# Create a list of customer names\n",
    "customer_names = [\"Alice\", \"Bob\", \"Charlie\", \"David\"]\n",
    "\n",
    "# Store each customer's details (name, age, and location) as tuples inside a list.\n",
    "customer_details = [(\"Alice\", 28, \"New York\"), \n",
    "                    (\"Bob\", 34, \"Los Angeles\"), \n",
    "                    (\"Charlie\", 25, \"Chicago\"), \n",
    "                    (\"David\", 40, \"Miami\")]\n",
    "\n",
    "# Use a dictionary to store feedback from each customer.\n",
    "customer_feedback = {\n",
    "    \"Alice\": \"The service was excellent and very professional.\",\n",
    "    \"Bob\": \"I had a bad experience with customer support.\",\n",
    "    \"Charlie\": \"Good quality but delivery was slow.\",\n",
    "    \"David\": \"The product was poor and not worth the price.\"\n",
    "}\n",
    "\n",
    "# Print stored customer details\n",
    "print(\"Customer Details:\")\n",
    "for details in customer_details:\n",
    "    print(details)\n"
   ]
  },
  {
   "cell_type": "markdown",
   "metadata": {},
   "source": [
    "**Step 2:** Analyze feedback "
   ]
  },
  {
   "cell_type": "code",
   "execution_count": 3,
   "metadata": {},
   "outputs": [
    {
     "name": "stdout",
     "output_type": "stream",
     "text": [
      "\n",
      "Customer Feedback Classification:\n",
      "Alice: Positive\n",
      "Bob: Negative\n",
      "Charlie: Positive\n",
      "David: Negative\n"
     ]
    }
   ],
   "source": [
    "# Keywords for classification\n",
    "positive_words = {\"good\", \"excellent\", \"great\", \"amazing\", \"professional\"}\n",
    "negative_words = {\"bad\", \"poor\", \"terrible\", \"slow\", \"worst\"}\n",
    "\n",
    "# Dictionary to store classification results\n",
    "feedback_classification = {}\n",
    "\n",
    "\n",
    "# Loop through customer feedback and classify\n",
    "for customer, feedback in customer_feedback.items():\n",
    "    words = set(feedback.lower().split())  # Convert to lowercase and split into words\n",
    "    \n",
    "    if words & positive_words:  # Check for positive words\n",
    "        feedback_classification[customer] = \"Positive\"\n",
    "    elif words & negative_words:  # Check for negative words\n",
    "        feedback_classification[customer] = \"Negative\"\n",
    "    else:\n",
    "        feedback_classification[customer] = \"Neutral\"\n",
    "\n",
    "# Print classified feedback\n",
    "print(\"\\nCustomer Feedback Classification:\")\n",
    "for customer, category in feedback_classification.items():\n",
    "    print(f\"{customer}: {category}\")\n"
   ]
  },
  {
   "cell_type": "markdown",
   "metadata": {},
   "source": [
    "**Step 3:** Generate a summary report"
   ]
  },
  {
   "cell_type": "code",
   "execution_count": 3,
   "metadata": {},
   "outputs": [
    {
     "name": "stdout",
     "output_type": "stream",
     "text": [
      "\n",
      "Customer Feedback Report:\n",
      "Alice: The service was excellent and very professional.\n",
      "Bob: I had a bad experience with customer support.\n",
      "Charlie: Good quality but delivery was slow.\n",
      "David: The product was poor and not worth the price.\n",
      "\n",
      "Unique Words in Feedback: {'good', 'bad', 'the', 'professional.', 'i', 'was', 'quality', 'service', 'a', 'had', 'excellent', 'support.', 'product', 'not', 'experience', 'with', 'worth', 'delivery', 'poor', 'and', 'customer', 'price.', 'very', 'but', 'slow.'}\n",
      "\n",
      "Customers with Positive Feedback: ['Alice', 'Charlie']\n"
     ]
    }
   ],
   "source": [
    "# Display all customer feedback using dictionary methods\n",
    "print(\"\\nCustomer Feedback Report:\")\n",
    "for customer, feedback in customer_feedback.items():\n",
    "    print(f\"{customer}: {feedback}\")\n",
    "\n",
    "# Store unique words from all feedback using a set\n",
    "unique_words = set()\n",
    "for feedback in customer_feedback.values():\n",
    "    unique_words.update(feedback.lower().split())  # Add words to set\n",
    "\n",
    "print(\"\\nUnique Words in Feedback:\", unique_words)\n",
    "\n",
    "# List comprehension to find customers who gave positive feedback\n",
    "positive_customers = [customer for customer, category in feedback_classification.items() if category == \"Positive\"]\n",
    "\n",
    "print(\"\\nCustomers with Positive Feedback:\", positive_customers)\n"
   ]
  },
  {
   "cell_type": "markdown",
   "metadata": {},
   "source": [
    "**Step 4:** Organize and display data"
   ]
  },
  {
   "cell_type": "code",
   "execution_count": 4,
   "metadata": {},
   "outputs": [
    {
     "name": "stdout",
     "output_type": "stream",
     "text": [
      "\n",
      "Final Feedback Classification Summary:\n",
      "Alice: Positive\n",
      "Bob: Negative\n",
      "Charlie: Positive\n",
      "David: Negative\n",
      "\n",
      "Customers who provided feedback: {'Bob', 'Charlie', 'Alice', 'David'}\n",
      "\n",
      "Customers who gave both positive and negative feedback: set()\n",
      "\n",
      "Customers who gave only negative feedback: {'Bob', 'David'}\n"
     ]
    }
   ],
   "source": [
    "# Print customer names with their feedback classification\n",
    "print(\"\\nFinal Feedback Classification Summary:\")\n",
    "for customer in customer_names:\n",
    "    category = feedback_classification.get(customer, \"Unknown\")\n",
    "    print(f\"{customer}: {category}\")\n",
    "\n",
    "# Set operations to compare feedback categories\n",
    "positive_set = set(positive_customers)\n",
    "negative_set = {customer for customer, category in feedback_classification.items() if category == \"Negative\"}\n",
    "\n",
    "# Customers who provided feedback (union of both sets)\n",
    "all_feedback_customers = positive_set | negative_set\n",
    "print(\"\\nCustomers who provided feedback:\", all_feedback_customers)\n",
    "\n",
    "# Customers who provided both positive and negative feedback (intersection)\n",
    "both_positive_negative = positive_set & negative_set\n",
    "print(\"\\nCustomers who gave both positive and negative feedback:\", both_positive_negative)\n",
    "\n",
    "# Customers who gave only negative feedback (difference)\n",
    "only_negative_feedback = negative_set - positive_set\n",
    "print(\"\\nCustomers who gave only negative feedback:\", only_negative_feedback)\n"
   ]
  },
  {
   "cell_type": "markdown",
   "metadata": {},
   "source": [
    "#### By following all the steps above, you have successfully learned how to store, analyze, and organize customer feedback data using Python data structures such as lists, tuples, dictionaries, and sets. You can now efficiently manage customer information, classify feedback, generate insightful summaries, and perform set operations to compare and analyze feedback patterns."
   ]
  }
 ],
 "metadata": {
  "kernelspec": {
   "display_name": "Python 3",
   "language": "python",
   "name": "python3"
  },
  "language_info": {
   "codemirror_mode": {
    "name": "ipython",
    "version": 3
   },
   "file_extension": ".py",
   "mimetype": "text/x-python",
   "name": "python",
   "nbconvert_exporter": "python",
   "pygments_lexer": "ipython3",
   "version": "3.12.5"
  }
 },
 "nbformat": 4,
 "nbformat_minor": 2
}
